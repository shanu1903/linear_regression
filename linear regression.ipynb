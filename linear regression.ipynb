{
 "cells": [
  {
   "cell_type": "code",
   "execution_count": 2,
   "metadata": {},
   "outputs": [],
   "source": [
    "import numpy  as np"
   ]
  },
  {
   "cell_type": "code",
   "execution_count": 25,
   "metadata": {
    "scrolled": true
   },
   "outputs": [
    {
     "data": {
      "text/plain": [
       "array([[ 32.50234527,  31.70700585],\n",
       "       [ 53.42680403,  68.77759598],\n",
       "       [ 61.53035803,  62.5623823 ],\n",
       "       [ 47.47563963,  71.54663223],\n",
       "       [ 59.81320787,  87.23092513],\n",
       "       [ 55.14218841,  78.21151827],\n",
       "       [ 52.21179669,  79.64197305],\n",
       "       [ 39.29956669,  59.17148932],\n",
       "       [ 48.10504169,  75.3312423 ],\n",
       "       [ 52.55001444,  71.30087989],\n",
       "       [ 45.41973014,  55.16567715],\n",
       "       [ 54.35163488,  82.47884676],\n",
       "       [ 44.1640495 ,  62.00892325],\n",
       "       [ 58.16847072,  75.39287043],\n",
       "       [ 56.72720806,  81.43619216],\n",
       "       [ 48.95588857,  60.72360244],\n",
       "       [ 44.68719623,  82.89250373],\n",
       "       [ 60.29732685,  97.37989686],\n",
       "       [ 45.61864377,  48.84715332],\n",
       "       [ 38.81681754,  56.87721319],\n",
       "       [ 66.18981661,  83.87856466],\n",
       "       [ 65.41605175, 118.5912173 ],\n",
       "       [ 47.48120861,  57.25181946],\n",
       "       [ 41.57564262,  51.39174408],\n",
       "       [ 51.84518691,  75.38065167],\n",
       "       [ 59.37082201,  74.76556403],\n",
       "       [ 57.31000344,  95.45505292],\n",
       "       [ 63.61556125,  95.22936602],\n",
       "       [ 46.73761941,  79.05240617],\n",
       "       [ 50.55676015,  83.43207142],\n",
       "       [ 52.22399609,  63.35879032],\n",
       "       [ 35.56783005,  41.4128853 ],\n",
       "       [ 42.43647694,  76.61734128],\n",
       "       [ 58.16454011,  96.76956643],\n",
       "       [ 57.50444762,  74.08413012],\n",
       "       [ 45.44053073,  66.58814441],\n",
       "       [ 61.89622268,  77.76848242],\n",
       "       [ 33.09383174,  50.71958891],\n",
       "       [ 36.43600951,  62.12457082],\n",
       "       [ 37.67565486,  60.81024665],\n",
       "       [ 44.55560838,  52.68298337],\n",
       "       [ 43.31828263,  58.56982472],\n",
       "       [ 50.07314563,  82.90598149],\n",
       "       [ 43.87061265,  61.4247098 ],\n",
       "       [ 62.99748075, 115.2441528 ],\n",
       "       [ 32.66904376,  45.57058882],\n",
       "       [ 40.16689901,  54.0840548 ],\n",
       "       [ 53.57507753,  87.99445276],\n",
       "       [ 33.86421497,  52.72549438],\n",
       "       [ 64.70713867,  93.57611869],\n",
       "       [ 38.11982403,  80.16627545],\n",
       "       [ 44.50253806,  65.10171157],\n",
       "       [ 40.59953838,  65.56230126],\n",
       "       [ 41.72067636,  65.28088692],\n",
       "       [ 51.08863468,  73.43464155],\n",
       "       [ 55.0780959 ,  71.13972786],\n",
       "       [ 41.37772653,  79.10282968],\n",
       "       [ 62.49469743,  86.52053844],\n",
       "       [ 49.20388754,  84.74269781],\n",
       "       [ 41.10268519,  59.35885025],\n",
       "       [ 41.18201611,  61.68403752],\n",
       "       [ 50.18638949,  69.84760416],\n",
       "       [ 52.37844622,  86.09829121],\n",
       "       [ 50.13548549,  59.10883927],\n",
       "       [ 33.64470601,  69.89968164],\n",
       "       [ 39.55790122,  44.86249071],\n",
       "       [ 56.13038882,  85.49806778],\n",
       "       [ 57.36205213,  95.53668685],\n",
       "       [ 60.26921439,  70.25193442],\n",
       "       [ 35.67809389,  52.72173496],\n",
       "       [ 31.588117  ,  50.39267014],\n",
       "       [ 53.66093226,  63.64239878],\n",
       "       [ 46.68222865,  72.24725107],\n",
       "       [ 43.10782022,  57.81251298],\n",
       "       [ 70.34607562, 104.25710159],\n",
       "       [ 44.49285588,  86.64202032],\n",
       "       [ 57.5045333 ,  91.486778  ],\n",
       "       [ 36.93007661,  55.23166089],\n",
       "       [ 55.80573336,  79.55043668],\n",
       "       [ 38.95476907,  44.84712424],\n",
       "       [ 56.9012147 ,  80.20752314],\n",
       "       [ 56.86890066,  83.14274979],\n",
       "       [ 34.3331247 ,  55.72348926],\n",
       "       [ 59.04974121,  77.63418251],\n",
       "       [ 57.78822399,  99.05141484],\n",
       "       [ 54.28232871,  79.12064627],\n",
       "       [ 51.0887199 ,  69.58889785],\n",
       "       [ 50.28283635,  69.51050331],\n",
       "       [ 44.21174175,  73.68756432],\n",
       "       [ 38.00548801,  61.36690454],\n",
       "       [ 32.94047994,  67.17065577],\n",
       "       [ 53.69163957,  85.66820315],\n",
       "       [ 68.76573427, 114.85387123],\n",
       "       [ 46.2309665 ,  90.12357207],\n",
       "       [ 68.31936082,  97.91982104],\n",
       "       [ 50.03017434,  81.53699078],\n",
       "       [ 49.23976534,  72.11183247],\n",
       "       [ 50.03957594,  85.23200734],\n",
       "       [ 48.14985889,  66.22495789],\n",
       "       [ 25.12848465,  53.45439421]])"
      ]
     },
     "execution_count": 25,
     "metadata": {},
     "output_type": "execute_result"
    }
   ],
   "source": [
    " points = np.loadtxt(open(\"data.csv\",\"rb\"), delimiter=\",\")\n",
    "points\n"
   ]
  },
  {
   "cell_type": "code",
   "execution_count": 5,
   "metadata": {},
   "outputs": [],
   "source": [
    "from sklearn.model_selection  import train_test_split"
   ]
  },
  {
   "cell_type": "code",
   "execution_count": 22,
   "metadata": {},
   "outputs": [],
   "source": [
    "x_train,x_test,y_train,y_test=train_test_split(points[:,0],points[:,1],test_size=0.2)"
   ]
  },
  {
   "cell_type": "code",
   "execution_count": 23,
   "metadata": {},
   "outputs": [
    {
     "name": "stdout",
     "output_type": "stream",
     "text": [
      "(80,) (80,) (20,) (20,)\n"
     ]
    }
   ],
   "source": [
    "print(x_train.shape,y_train.shape,x_test.shape,y_test.shape)"
   ]
  },
  {
   "cell_type": "code",
   "execution_count": null,
   "metadata": {},
   "outputs": [],
   "source": []
  },
  {
   "cell_type": "code",
   "execution_count": null,
   "metadata": {},
   "outputs": [],
   "source": []
  },
  {
   "cell_type": "code",
   "execution_count": 26,
   "metadata": {},
   "outputs": [],
   "source": [
    "def fit (X_train, Y_train):\n",
    "    num = (X_train.mean() * Y_train.mean() - (X_train*Y_train).mean())\n",
    "    den = X_train.mean()**2 - (X_train**2).mean()\n",
    "    m = num/den\n",
    "    b = Y_train.mean() - m *X_train.mean()\n",
    "    return m,b\n",
    "\n",
    "def predict(X_test, m , b):\n",
    "    return X_test*m + b\n",
    "\n",
    "def cost(Y_true, Y_pred):\n",
    "    return ((Y_true - Y_pred)**2).sum()\n",
    "\n",
    "def score(Y_true, Y_pred):\n",
    "    num = ((Y_true-Y_pred)**2).sum()\n",
    "    den = ((Y_true - Y_true.mean()) ** 2).sum()\n",
    "    return 1 - num/den\n",
    "\n",
    "#X_train, Y_train, X_test, Y_test\n",
    "m,b = fit(x_train, y_train)\n",
    "Y_pred = predict(x_test, m , b)"
   ]
  },
  {
   "cell_type": "code",
   "execution_count": 29,
   "metadata": {},
   "outputs": [],
   "source": [
    "import matplotlib.pyplot as plt"
   ]
  },
  {
   "cell_type": "code",
   "execution_count": 30,
   "metadata": {},
   "outputs": [
    {
     "data": {
      "text/plain": [
       "<matplotlib.collections.PathCollection at 0x7f8d8c0da208>"
      ]
     },
     "execution_count": 30,
     "metadata": {},
     "output_type": "execute_result"
    },
    {
     "data": {
      "image/png": "[encoded data removed]",
      "text/plain": [
       "<matplotlib.figure.Figure at 0x7f8d934c2c88>"
      ]
     },
     "metadata": {},
     "output_type": "display_data"
    }
   ],
   "source": [
    "plt.scatter(x_train,y_train)"
   ]
  },
  {
   "cell_type": "code",
   "execution_count": 34,
   "metadata": {},
   "outputs": [],
   "source": [
    "x=[0,80]\n",
    "y=[0,0]"
   ]
  },
  {
   "cell_type": "code",
   "execution_count": 36,
   "metadata": {},
   "outputs": [],
   "source": [
    "y[0]=x[0]*m+b\n",
    "y[1]=x[1]*m+b"
   ]
  },
  {
   "cell_type": "code",
   "execution_count": 37,
   "metadata": {},
   "outputs": [
    {
     "data": {
      "text/plain": [
       "<matplotlib.collections.PathCollection at 0x7f8d8c00f668>"
      ]
     },
     "execution_count": 37,
     "metadata": {},
     "output_type": "execute_result"
    },
    {
     "data": {
      "image/png": "[encoded data removed]",
      "text/plain": [
       "<matplotlib.figure.Figure at 0x7f8d8c0da668>"
      ]
     },
     "metadata": {},
     "output_type": "display_data"
    }
   ],
   "source": [
    "plt.plot(x,y)\n",
    "plt.scatter(x_train,y_train)"
   ]
  },
  {
   "cell_type": "code",
   "execution_count": 39,
   "metadata": {},
   "outputs": [
    {
     "data": {
      "text/plain": [
       "<matplotlib.collections.PathCollection at 0x7f8d8bf4c828>"
      ]
     },
     "execution_count": 39,
     "metadata": {},
     "output_type": "execute_result"
    },
    {
     "data": {
      "image/png": "[encoded data removed]",
      "text/plain": [
       "<matplotlib.figure.Figure at 0x7f8d8bfd2e80>"
      ]
     },
     "metadata": {},
     "output_type": "display_data"
    }
   ],
   "source": [
    "plt.plot(x,y)\n",
    "plt.scatter(x_test,Y_pred)\n",
    "plt.scatter(x_test,y_test)\n"
   ]
  }
 ],
 "metadata": {
  "kernelspec": {
   "display_name": "Python 3",
   "language": "python",
   "name": "python3"
  },
  "language_info": {
   "codemirror_mode": {
    "name": "ipython",
    "version": 3
   },
   "file_extension": ".py",
   "mimetype": "text/x-python",
   "name": "python",
   "nbconvert_exporter": "python",
   "pygments_lexer": "ipython3",
   "version": "3.6.4"
  }
 },
 "nbformat": 4,
 "nbformat_minor": 2
}
